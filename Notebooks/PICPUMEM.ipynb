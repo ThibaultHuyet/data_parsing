{
 "cells": [
  {
   "cell_type": "markdown",
   "metadata": {},
   "source": [
    "## Initial Look"
   ]
  },
  {
   "cell_type": "markdown",
   "metadata": {},
   "source": [
    "Libraries to be used in the file parsing."
   ]
  },
  {
   "cell_type": "code",
   "execution_count": 1,
   "metadata": {
    "collapsed": true
   },
   "outputs": [],
   "source": [
    "import os.path # Used for isfile()\n",
    "\n",
    "# For plotting\n",
    "%matplotlib inline\n",
    "from matplotlib import pyplot as plt\n",
    "from matplotlib.font_manager import FontProperties\n",
    "import matplotlib\n",
    "\n",
    "# for arange\n",
    "import numpy as np"
   ]
  },
  {
   "cell_type": "markdown",
   "metadata": {},
   "source": [
    "The following function is used to parse through the files that do not have any particular program that I am interested in."
   ]
  },
  {
   "cell_type": "code",
   "execution_count": 2,
   "metadata": {
    "collapsed": true
   },
   "outputs": [],
   "source": [
    "def parseTop(oldfile, newfile, wordsToDelete):\n",
    "    \"\"\"\n",
    "    This function takes in a top file run in batch mode and removes the headers\n",
    "    The remaining file should only be process information\n",
    "    \"\"\"\n",
    "    if not os.path.isfile(newfile):\n",
    "        with open(oldfile) as f, open(newfile, \"w\") as nf:\n",
    "            for line in f:\n",
    "                if not any(line.startswith(no) for no in wordsToDelete):    # removes any line that starts with a word in wordsToDelete\n",
    "                    if not line.isspace():                                  # removes any empty lines\n",
    "                        nf.write(line.lstrip(' '))                          # The lstrip method is to remove the starting empty space\n",
    "    else:\n",
    "        print(\"File already exists, are you sure you want to do this?\")"
   ]
  },
  {
   "cell_type": "markdown",
   "metadata": {},
   "source": [
    "Then I want to have a version of the above function that returns a new file that only has the process I'm interested in."
   ]
  },
  {
   "cell_type": "code",
   "execution_count": 3,
   "metadata": {
    "collapsed": true
   },
   "outputs": [],
   "source": [
    "def returnOne(oldfile, newfile, processName):\n",
    "    \"\"\"\n",
    "    Takes in an oldfile location and a new file location\n",
    "    old file location is a top batch file\n",
    "    new file is the oldfile where only one process\n",
    "    \"\"\"\n",
    "    if not os.path.isfile(newfile):\n",
    "        with open(oldfile) as f, open(newfile, \"w\") as nf:\n",
    "            for line in f:\n",
    "                if processName in line:\n",
    "                    nf.write(line)\n",
    "\n",
    "    else:\n",
    "        print(\"File already exists\")"
   ]
  },
  {
   "cell_type": "markdown",
   "metadata": {},
   "source": [
    "Then finally I want to read the new files that have been parsed and return a dictionary storing all the PIDs and the corresponding CPU usage and memory usage."
   ]
  },
  {
   "cell_type": "code",
   "execution_count": 4,
   "metadata": {
    "collapsed": true
   },
   "outputs": [],
   "source": [
    "def readFile(file = \"result.txt\"):\n",
    "    \"\"\"\n",
    "    This function takes in a file and returns lists of all processes as dictionaries\n",
    "    The dictionaries have the structure of d = {'123': [1, 2, 3, 4, 5]}\n",
    "    The key is Process ID number and always greater than 0 stored as string\n",
    "    List contains floats\n",
    "    \"\"\"\n",
    "    \n",
    "    # PIDCPU will hold a key to a PID\n",
    "    # number and output a list of CPU used\n",
    "    # PIDMEM will do the very same\n",
    "    # thing however with the MEM used\n",
    "\n",
    "    PIDCPU = {}\n",
    "    PIDMEM = {}\n",
    "    if os.path.isfile(file):\n",
    "        with open(file) as f:\n",
    "            for line in f:\n",
    "                if not line.startswith(\"PID\"):\n",
    "                    s = line.split()\n",
    "\n",
    "                    # s[0] is the very first string in\n",
    "                    # the line. This is always PID number\n",
    "\n",
    "                    if s[0] not in PIDCPU or s[0] not in PIDMEM:\n",
    "                        # s[8] is the %CPU number\n",
    "                        PIDCPU[s[0]] = list()\n",
    "                        PIDCPU[s[0]].append(float(s[8]))\n",
    "\n",
    "                        # s[9] is the %MEM number\n",
    "                        PIDMEM[s[0]] = list()\n",
    "                        PIDMEM[s[0]].append(float(s[9]))\n",
    "                    else:\n",
    "                        PIDCPU[s[0]].append(float(s[8]))\n",
    "                        PIDMEM[s[0]].append(float(s[9]))\n",
    "\n",
    "            return PIDCPU, PIDMEM\n",
    "    else:\n",
    "        print(\"File does not exist\")"
   ]
  },
  {
   "cell_type": "markdown",
   "metadata": {},
   "source": [
    "The file locations are then put into variables along with some words to avoid"
   ]
  },
  {
   "cell_type": "code",
   "execution_count": 5,
   "metadata": {
    "collapsed": true
   },
   "outputs": [],
   "source": [
    "FILE = \"../Text/cpu.txt\"\n",
    "NEWFILE = \"../Results/Text/result.txt\"\n",
    "\n",
    "PI = \"../Text/pi.txt\"\n",
    "PIRESULT = \"../Results/Text/piResult.txt\"\n",
    "\n",
    "PIPROGRAM = \"../Text/piProgram.txt\"\n",
    "PIPROGRESULT = \"../Results/Text/piProgResult.txt\"\n",
    "\n",
    "avoid = [\"top\", \"Tasks\", \"%Cpu(s)\", \"KiB Mem\", \"KiB Swap\"]"
   ]
  },
  {
   "cell_type": "markdown",
   "metadata": {},
   "source": [
    "Here I begin by parsing through the RPI files where no program was running.\n",
    "\n",
    "Through some inspection of the files, I know that w1_bus_master (PID = 169) and docker (PID = 455, 499) seem to be the biggest CPU consumers."
   ]
  },
  {
   "cell_type": "code",
   "execution_count": 6,
   "metadata": {},
   "outputs": [
    {
     "name": "stdout",
     "output_type": "stream",
     "text": [
      "File already exists, are you sure you want to do this?\n"
     ]
    },
    {
     "data": {
      "image/png": "[encoded data removed]",
      "text/plain": [
       "<matplotlib.figure.Figure at 0x12fb2b4e438>"
      ]
     },
     "metadata": {},
     "output_type": "display_data"
    }
   ],
   "source": [
    "parseTop(PI, PIRESULT, avoid)\n",
    "cpuPi, memPi = readFile(PIRESULT)\n",
    "\n",
    "x = np.arange(0, len(cpuPi[\"455\"]))\n",
    "\n",
    "y1 = cpuPi[\"455\"]\n",
    "y2 = cpuPi[\"499\"]\n",
    "y3 = cpuPi[\"169\"]\n",
    "\n",
    "plt.plot(x, y1)\n",
    "plt.plot(x, y2)\n",
    "plt.plot(x, y3)\n",
    "\n",
    "plt.legend([\"dockerd\", \"docker-containe\", \"w1_bus_master1\"], loc = \"lower right\")\n",
    "plt.show()"
   ]
  },
  {
   "cell_type": "markdown",
   "metadata": {},
   "source": [
    "For memory, the most consuming tasks are a little different. Docker consumes quite a bit of memory (PID = 455, 499) however the bus doesn't.\n",
    "\n",
    "Through inspection, the sshd (PID = 448), bash (PID = 532), systemd (PID = 1), mtpd (PID = 475), vncserver (PID = 451) all consume >1% of %MEM."
   ]
  },
  {
   "cell_type": "code",
   "execution_count": 7,
   "metadata": {},
   "outputs": [
    {
     "data": {
      "image/png": "[encoded data removed]",
      "text/plain": [
       "<matplotlib.figure.Figure at 0x12fb2e43d30>"
      ]
     },
     "metadata": {},
     "output_type": "display_data"
    }
   ],
   "source": [
    "x = np.arange(0, len(memPi[\"455\"]))\n",
    "\n",
    "z1 = memPi[\"455\"]\n",
    "z2 = memPi[\"499\"]\n",
    "z3 = memPi[\"448\"]\n",
    "z4 = memPi[\"532\"]\n",
    "z5 = memPi[\"1\"]\n",
    "z6 = memPi[\"475\"]\n",
    "z7 = memPi[\"451\"]\n",
    "\n",
    "plt.plot(x, z1)\n",
    "plt.plot(x, z2)\n",
    "plt.plot(x, z3)\n",
    "plt.plot(x, z4)\n",
    "plt.plot(x, z5)\n",
    "plt.plot(x, z6)\n",
    "plt.plot(x, z7)\n",
    "\n",
    "fontP = FontProperties()\n",
    "fontP.set_size('small')\n",
    "\n",
    "plt.legend([\"dockerd\", \"docker-containe\", \"sshd\", \"bash\", \"systemd\", \"mtpd\", \"vncserver\"],\n",
    "          prop = fontP)\n",
    "plt.show()"
   ]
  },
  {
   "cell_type": "markdown",
   "metadata": {},
   "source": [
    "Now, it's time to see how much CPU/MEM the audio and fft take.\n",
    "\n",
    "First, create the two dictionaries I will be graphing with"
   ]
  },
  {
   "cell_type": "code",
   "execution_count": 8,
   "metadata": {},
   "outputs": [
    {
     "name": "stdout",
     "output_type": "stream",
     "text": [
      "File already exists\n"
     ]
    }
   ],
   "source": [
    "returnOne(PIPROGRAM, PIPROGRESULT, \"main\")\n",
    "cpu, mem = readFile(PIPROGRESULT)"
   ]
  },
  {
   "cell_type": "markdown",
   "metadata": {},
   "source": [
    "Then the creation of a simple line graph."
   ]
  },
  {
   "cell_type": "code",
   "execution_count": 9,
   "metadata": {},
   "outputs": [
    {
     "data": {
      "image/png": "[encoded data removed]",
      "text/plain": [
       "<matplotlib.figure.Figure at 0x12fb33211d0>"
      ]
     },
     "metadata": {},
     "output_type": "display_data"
    }
   ],
   "source": [
    "l = np.arange(0, len(cpu['21540']))\n",
    "y = cpu['21540']\n",
    "\n",
    "plt.plot(l, y)\n",
    "plt.xlabel(\"Time\")\n",
    "plt.ylabel(\"cpu\")\n",
    "plt.show()"
   ]
  },
  {
   "cell_type": "markdown",
   "metadata": {},
   "source": [
    "Unfortunately, when I was taking the results, I forgot to put in a reasonable delay. So, here I just graph only 100 results."
   ]
  },
  {
   "cell_type": "code",
   "execution_count": 10,
   "metadata": {},
   "outputs": [
    {
     "data": {
      "image/png": "[encoded data removed]",
      "text/plain": [
       "<matplotlib.figure.Figure at 0x12fb37640b8>"
      ]
     },
     "metadata": {},
     "output_type": "display_data"
    }
   ],
   "source": [
    "l1 = np.arange(0, len(cpu['21540'][0:100]))\n",
    "f1 = cpu['21540'][0:100]\n",
    "\n",
    "plt.plot(l1, f1)\n",
    "plt.xlabel(\"Time\")\n",
    "plt.ylabel(\"cpu\")\n",
    "plt.show()"
   ]
  },
  {
   "cell_type": "markdown",
   "metadata": {},
   "source": [
    "Now in terms of memory."
   ]
  },
  {
   "cell_type": "code",
   "execution_count": 11,
   "metadata": {},
   "outputs": [
    {
     "data": {
      "image/png": "[encoded data removed]",
      "text/plain": [
       "<matplotlib.figure.Figure at 0x12fb36f4780>"
      ]
     },
     "metadata": {},
     "output_type": "display_data"
    }
   ],
   "source": [
    "mx1 = np.arange(0, len(mem['21540'][0:100]))\n",
    "my1 = mem['21540'][0:100]\n",
    "\n",
    "plt.plot(mx1, my1)\n",
    "plt.xlabel(\"Time\")\n",
    "plt.ylabel(\"mem\")\n",
    "plt.show()"
   ]
  },
  {
   "cell_type": "markdown",
   "metadata": {},
   "source": [
    "## Deeper Look"
   ]
  },
  {
   "cell_type": "markdown",
   "metadata": {},
   "source": [
    "Time to look a little closer at what is actually happening in the idle Raspberry Pi case"
   ]
  },
  {
   "cell_type": "markdown",
   "metadata": {},
   "source": [
    "From doing a more through inspection of the initial data, we can see that the there is something I missed initially.\n",
    "\n",
    "Process 12328 consumes 11% of the cpu power on average. After that, only the 3 processes I mentioned consume any kind of real processor power. The rest is all sub 0.1% cpu. At a later stage, I will probably combine everyone of these cpu processes together."
   ]
  },
  {
   "cell_type": "code",
   "execution_count": 12,
   "metadata": {},
   "outputs": [
    {
     "name": "stdout",
     "output_type": "stream",
     "text": [
      "Key: 12328\tMean 11.25\n",
      "Key: 169\tMean 7.76823708207\n",
      "Key: 455\tMean 1.82887537994\n",
      "Key: 499\tMean 1.31975683891\n",
      "Key: 553\tMean 0.1\n",
      "Key: 118\tMean 0.0998480243161\n",
      "Key: 451\tMean 0.0998480243161\n",
      "Key: 9259\tMean 0.090625\n",
      "Key: 11974\tMean 0.0894736842105\n",
      "Key: 10938\tMean 0.0888888888889\n",
      "Key: 336\tMean 0.0888888888889\n",
      "Key: 2593\tMean 0.0875\n",
      "Key: 7968\tMean 0.0875\n",
      "Key: 31936\tMean 0.0866666666667\n",
      "Key: 1016\tMean 0.0866666666667\n",
      "Key: 3612\tMean 0.0866666666667\n",
      "Key: 6335\tMean 0.0864864864865\n",
      "Key: 10102\tMean 0.0846153846154\n",
      "Key: 1652\tMean 0.0833333333333\n",
      "Key: 3304\tMean 0.0833333333333\n",
      "Key: 5093\tMean 0.0833333333333\n",
      "Key: 628\tMean 0.0833333333333\n",
      "Key: 2295\tMean 0.0833333333333\n",
      "Key: 2090\tMean 0.0818181818182\n",
      "Key: 7733\tMean 0.0818181818182\n",
      "Key: 10557\tMean 0.08125\n",
      "Key: 32431\tMean 0.08125\n",
      "Key: 3905\tMean 0.08\n",
      "Key: 4217\tMean 0.08\n",
      "Key: 5375\tMean 0.0791666666667\n",
      "Key: 1176\tMean 0.0785714285714\n",
      "Key: 3579\tMean 0.0785714285714\n",
      "Key: 7514\tMean 0.0777777777778\n",
      "Key: 30313\tMean 0.0777777777778\n",
      "Key: 30514\tMean 0.0777777777778\n",
      "Key: 31737\tMean 0.0777777777778\n",
      "Key: 3155\tMean 0.0777777777778\n",
      "Key: 1649\tMean 0.0769230769231\n",
      "Key: 7337\tMean 0.075\n",
      "Key: 2569\tMean 0.075\n",
      "Key: 4446\tMean 0.075\n",
      "Key: 4801\tMean 0.075\n",
      "Key: 2362\tMean 0.0727272727273\n",
      "Key: 8507\tMean 0.0727272727273\n",
      "Key: 30072\tMean 0.0727272727273\n",
      "Key: 2744\tMean 0.0727272727273\n",
      "Key: 8750\tMean 0.0714285714286\n",
      "Key: 9132\tMean 0.0714285714286\n",
      "Key: 10422\tMean 0.0714285714286\n",
      "Key: 30741\tMean 0.0714285714286\n",
      "Key: 30872\tMean 0.0714285714286\n",
      "Key: 1389\tMean 0.0714285714286\n",
      "Key: 11410\tMean 0.07\n",
      "Key: 29871\tMean 0.07\n",
      "Key: 31241\tMean 0.07\n",
      "Key: 4515\tMean 0.0666666666667\n",
      "Key: 29361\tMean 0.0666666666667\n",
      "Key: 2973\tMean 0.0666666666667\n",
      "Key: 3342\tMean 0.0666666666667\n",
      "Key: 3956\tMean 0.0666666666667\n",
      "Key: 65\tMean 0.0666666666667\n",
      "Key: 4700\tMean 0.0666666666667\n",
      "Key: 8952\tMean 0.0666666666667\n",
      "Key: 11873\tMean 0.0666666666667\n",
      "Key: 29548\tMean 0.0666666666667\n",
      "Key: 1536\tMean 0.0666666666667\n",
      "Key: 4317\tMean 0.0666666666667\n",
      "Key: 1035\tMean 0.0625\n",
      "Key: 1513\tMean 0.0625\n",
      "Key: 8352\tMean 0.0625\n",
      "Key: 11605\tMean 0.0625\n",
      "Key: 2057\tMean 0.0625\n",
      "Key: 4440\tMean 0.06\n",
      "Key: 939\tMean 0.06\n",
      "Key: 2220\tMean 0.06\n",
      "Key: 3537\tMean 0.06\n",
      "Key: 4145\tMean 0.06\n",
      "Key: 4234\tMean 0.06\n",
      "Key: 11744\tMean 0.0571428571429\n",
      "Key: 29657\tMean 0.0571428571429\n",
      "Key: 31009\tMean 0.0571428571429\n",
      "Key: 31130\tMean 0.0571428571429\n",
      "Key: 32302\tMean 0.0571428571429\n",
      "Key: 1948\tMean 0.0571428571429\n",
      "Key: 942\tMean 0.05\n",
      "Key: 3213\tMean 0.05\n",
      "Key: 29762\tMean 0.05\n",
      "Key: 6189\tMean 0.05\n",
      "Key: 4144\tMean 0.04\n",
      "Key: 6035\tMean 0.04\n",
      "Key: 8875\tMean 0.04\n",
      "Key: 9057\tMean 0.04\n",
      "Key: 31519\tMean 0.0333333333333\n",
      "Key: 849\tMean 0.0315789473684\n",
      "Key: 767\tMean 0.0311550151976\n",
      "Key: 5846\tMean 0.0285714285714\n",
      "Key: 5950\tMean 0.0272727272727\n",
      "Key: 31606\tMean 0.025\n",
      "Key: 31320\tMean 0.0230769230769\n",
      "Key: 6260\tMean 0.02\n",
      "Key: 31440\tMean 0.02\n",
      "Key: 6410\tMean 0.0153846153846\n",
      "Key: 6112\tMean 0.0142857142857\n",
      "Key: 31637\tMean 0.0125\n",
      "Key: 3\tMean 0.00349544072948\n",
      "Key: 68\tMean 0.00197568389058\n",
      "Key: 1\tMean 0.000759878419453\n",
      "Key: 2\tMean 0.0\n",
      "Key: 4\tMean 0.0\n",
      "Key: 5\tMean 0.0\n",
      "Key: 6\tMean 0.0\n",
      "Key: 7\tMean 0.0\n",
      "Key: 8\tMean 0.0\n",
      "Key: 9\tMean 0.0\n",
      "Key: 10\tMean 0.0\n",
      "Key: 11\tMean 0.0\n",
      "Key: 12\tMean 0.0\n",
      "Key: 13\tMean 0.0\n",
      "Key: 14\tMean 0.0\n",
      "Key: 15\tMean 0.0\n",
      "Key: 16\tMean 0.0\n",
      "Key: 17\tMean 0.0\n",
      "Key: 18\tMean 0.0\n",
      "Key: 19\tMean 0.0\n",
      "Key: 20\tMean 0.0\n",
      "Key: 21\tMean 0.0\n",
      "Key: 22\tMean 0.0\n",
      "Key: 32\tMean 0.0\n",
      "Key: 33\tMean 0.0\n",
      "Key: 34\tMean 0.0\n",
      "Key: 35\tMean 0.0\n",
      "Key: 36\tMean 0.0\n",
      "Key: 37\tMean 0.0\n",
      "Key: 38\tMean 0.0\n",
      "Key: 39\tMean 0.0\n",
      "Key: 40\tMean 0.0\n",
      "Key: 41\tMean 0.0\n",
      "Key: 42\tMean 0.0\n",
      "Key: 43\tMean 0.0\n",
      "Key: 44\tMean 0.0\n",
      "Key: 45\tMean 0.0\n",
      "Key: 46\tMean 0.0\n",
      "Key: 47\tMean 0.0\n",
      "Key: 48\tMean 0.0\n",
      "Key: 49\tMean 0.0\n",
      "Key: 50\tMean 0.0\n",
      "Key: 51\tMean 0.0\n",
      "Key: 52\tMean 0.0\n",
      "Key: 53\tMean 0.0\n",
      "Key: 54\tMean 0.0\n",
      "Key: 55\tMean 0.0\n",
      "Key: 56\tMean 0.0\n",
      "Key: 57\tMean 0.0\n",
      "Key: 58\tMean 0.0\n",
      "Key: 59\tMean 0.0\n",
      "Key: 60\tMean 0.0\n",
      "Key: 61\tMean 0.0\n",
      "Key: 62\tMean 0.0\n",
      "Key: 63\tMean 0.0\n",
      "Key: 64\tMean 0.0\n",
      "Key: 66\tMean 0.0\n",
      "Key: 67\tMean 0.0\n",
      "Key: 69\tMean 0.0\n",
      "Key: 70\tMean 0.0\n",
      "Key: 71\tMean 0.0\n",
      "Key: 86\tMean 0.0\n",
      "Key: 88\tMean 0.0\n",
      "Key: 120\tMean 0.0\n",
      "Key: 182\tMean 0.0\n",
      "Key: 197\tMean 0.0\n",
      "Key: 353\tMean 0.0\n",
      "Key: 355\tMean 0.0\n",
      "Key: 359\tMean 0.0\n",
      "Key: 365\tMean 0.0\n",
      "Key: 371\tMean 0.0\n",
      "Key: 375\tMean 0.0\n",
      "Key: 377\tMean 0.0\n",
      "Key: 384\tMean 0.0\n",
      "Key: 385\tMean 0.0\n",
      "Key: 410\tMean 0.0\n",
      "Key: 445\tMean 0.0\n",
      "Key: 448\tMean 0.0\n",
      "Key: 475\tMean 0.0\n",
      "Key: 481\tMean 0.0\n",
      "Key: 483\tMean 0.0\n",
      "Key: 487\tMean 0.0\n",
      "Key: 488\tMean 0.0\n",
      "Key: 515\tMean 0.0\n",
      "Key: 520\tMean 0.0\n",
      "Key: 532\tMean 0.0\n",
      "Key: 1317\tMean 0.0\n",
      "Key: 1440\tMean 0.0\n",
      "Key: 1515\tMean 0.0\n",
      "Key: 1869\tMean 0.0\n",
      "Key: 1887\tMean 0.0\n",
      "Key: 2204\tMean 0.0\n",
      "Key: 2233\tMean 0.0\n",
      "Key: 2364\tMean 0.0\n",
      "Key: 2694\tMean 0.0\n",
      "Key: 2882\tMean 0.0\n",
      "Key: 2919\tMean 0.0\n",
      "Key: 2992\tMean 0.0\n",
      "Key: 3776\tMean 0.0\n",
      "Key: 3961\tMean 0.0\n",
      "Key: 4019\tMean 0.0\n",
      "Key: 4121\tMean 0.0\n",
      "Key: 4932\tMean 0.0\n",
      "Key: 5164\tMean 0.0\n",
      "Key: 5346\tMean 0.0\n",
      "Key: 5489\tMean 0.0\n",
      "Key: 5921\tMean 0.0\n",
      "Key: 5964\tMean 0.0\n",
      "Key: 6022\tMean 0.0\n",
      "Key: 6628\tMean 0.0\n",
      "Key: 6731\tMean 0.0\n",
      "Key: 7068\tMean 0.0\n",
      "Key: 7621\tMean 0.0\n",
      "Key: 7719\tMean 0.0\n",
      "Key: 7781\tMean 0.0\n",
      "Key: 8065\tMean 0.0\n",
      "Key: 8299\tMean 0.0\n",
      "Key: 8545\tMean 0.0\n",
      "Key: 9004\tMean 0.0\n",
      "Key: 9150\tMean 0.0\n",
      "Key: 9347\tMean 0.0\n",
      "Key: 9385\tMean 0.0\n",
      "Key: 9622\tMean 0.0\n",
      "Key: 9701\tMean 0.0\n",
      "Key: 10057\tMean 0.0\n",
      "Key: 10172\tMean 0.0\n",
      "Key: 10299\tMean 0.0\n",
      "Key: 10532\tMean 0.0\n",
      "Key: 10677\tMean 0.0\n",
      "Key: 11069\tMean 0.0\n",
      "Key: 11438\tMean 0.0\n",
      "Key: 12071\tMean 0.0\n",
      "Key: 12106\tMean 0.0\n",
      "Key: 12270\tMean 0.0\n",
      "Key: 12110\tMean 0.0\n",
      "Key: 12111\tMean 0.0\n",
      "Key: 12325\tMean 0.0\n",
      "Key: 24955\tMean 0.0\n",
      "Key: 29907\tMean 0.0\n",
      "Key: 31435\tMean 0.0\n",
      "Key: 31553\tMean 0.0\n",
      "Key: 31712\tMean 0.0\n",
      "Key: 32013\tMean 0.0\n",
      "Key: 32116\tMean 0.0\n",
      "Key: 433\tMean 0.0\n",
      "Key: 820\tMean 0.0\n",
      "Key: 1482\tMean 0.0\n",
      "Key: 2038\tMean 0.0\n",
      "Key: 2386\tMean 0.0\n",
      "Key: 2414\tMean 0.0\n",
      "Key: 2746\tMean 0.0\n",
      "Key: 3060\tMean 0.0\n",
      "Key: 3177\tMean 0.0\n",
      "Key: 3727\tMean 0.0\n",
      "Key: 4028\tMean 0.0\n",
      "Key: 4086\tMean 0.0\n",
      "Key: 4314\tMean 0.0\n"
     ]
    }
   ],
   "source": [
    "from collections import OrderedDict\n",
    "\n",
    "average = {}\n",
    "\n",
    "for k in cpuPi:\n",
    "    mean = np.mean(cpuPi[k])\n",
    "    average[k] = mean\n",
    "    \n",
    "sortedCPU = OrderedDict(sorted(average.items(), reverse = True, key = lambda t: t[1]))\n",
    "\n",
    "for k in sortedCPU:\n",
    "    print(\"Key: \" + str(k) + \"\\tMean \" + str(sortedCPU[k]))"
   ]
  },
  {
   "cell_type": "code",
   "execution_count": 13,
   "metadata": {},
   "outputs": [],
   "source": [
    "keys = ['12328', '169', '455', '499']\n",
    "concise = {}\n",
    "t = []\n",
    "\n",
    "from itertools import zip_longest\n",
    "\n",
    "for k in cpuPi:\n",
    "    if k in keys:\n",
    "        concise[k] = cpuPi[k]\n",
    "    else: # At this point, I want to add everything into an 'everything else' list\n",
    "        t = [x + y for x, y in zip_longest(t, cpuPi[k], fillvalue = 0)]\n",
    "        \n",
    "concise['all'] = t\n",
    "\n",
    "concise['12328'].extend([0] * (len(concise['all']) - len(concise['12328'])))"
   ]
  },
  {
   "cell_type": "code",
   "execution_count": 14,
   "metadata": {},
   "outputs": [
    {
     "data": {
      "image/png": "[encoded data removed]",
      "text/plain": [
       "<matplotlib.figure.Figure at 0x12fb2f35518>"
      ]
     },
     "metadata": {},
     "output_type": "display_data"
    }
   ],
   "source": [
    "points = np.arange(0, len(concise['all']))\n",
    "\n",
    "plt.stackplot(points, concise['all'], concise['12328'], concise['499'], concise['455'], concise['169'])\n",
    "plt.ylabel('%CPU')\n",
    "plt.xlabel('points')\n",
    "plt.show()"
   ]
  },
  {
   "cell_type": "code",
   "execution_count": null,
   "metadata": {
    "collapsed": true
   },
   "outputs": [],
   "source": []
  }
 ],
 "metadata": {
  "kernelspec": {
   "display_name": "Python 3",
   "language": "python",
   "name": "python3"
  },
  "language_info": {
   "codemirror_mode": {
    "name": "ipython",
    "version": 3
   },
   "file_extension": ".py",
   "mimetype": "text/x-python",
   "name": "python",
   "nbconvert_exporter": "python",
   "pygments_lexer": "ipython3",
   "version": "3.6.2"
  }
 },
 "nbformat": 4,
 "nbformat_minor": 2
}
