{
 "cells": [
  {
   "cell_type": "markdown",
   "metadata": {
    "collapsed": true
   },
   "source": [
    "# Inspection"
   ]
  },
  {
   "cell_type": "markdown",
   "metadata": {},
   "source": [
    "For the most part, this notebook will just be a tidied up version of the raspberry pi performance notebook. The main objective I have in mind here is to take all of the investigation I did in the mentioned notebook and then creating more visually clean graphs and try to convey the information across effectively."
   ]
  },
  {
   "cell_type": "markdown",
   "metadata": {},
   "source": [
    "## Imports"
   ]
  },
  {
   "cell_type": "markdown",
   "metadata": {},
   "source": [
    "Here I am importing everything that will be used throughout the notebook. If I am importing something that will only be used in a specific place, I will import the library there rather than here."
   ]
  },
  {
   "cell_type": "code",
   "execution_count": 1,
   "metadata": {
    "collapsed": true
   },
   "outputs": [],
   "source": [
    "import os.path\n",
    "\n",
    "%matplotlib inline\n",
    "from matplotlib import pyplot as plt\n",
    "import numpy as np"
   ]
  },
  {
   "cell_type": "markdown",
   "metadata": {},
   "source": [
    "First begin some basic file keeping. I want to make sure that I have all the test results where I expect them to be. If the test results don't exist, the entire notebook is useless."
   ]
  },
  {
   "cell_type": "code",
   "execution_count": 2,
   "metadata": {},
   "outputs": [],
   "source": [
    "path = '../Input/Docker'\n",
    "zipFile = '../Input/Docker.zip'\n",
    "docker = []\n",
    "\n",
    "if (os.path.isdir(path)): # Check that the directory exists\n",
    "    docker = os.listdir(path)\n",
    "\n",
    "elif (os.path.isfile(zipFile)): # If directory doesn't exist, check that a zipfile exists\n",
    "    \n",
    "    import zipfile\n",
    "    with zipfile.ZipFile(zipFile, 'r') as zip_ref:\n",
    "        zip_ref.extractall(path)\n",
    "        \n",
    "    docker = os.listdir(path)\n",
    "\n",
    "else: # Neither zipfile or directory exists so error\n",
    "    print('Look to see if Docker test results are in the input folder')\n",
    "    \n",
    "for i in range(len(docker)):\n",
    "    docker[i] = path + '/' + docker[i]\n",
    "    \n",
    "docker.sort()"
   ]
  },
  {
   "cell_type": "markdown",
   "metadata": {},
   "source": [
    "Now, I want to check that a results folder exists"
   ]
  },
  {
   "cell_type": "code",
   "execution_count": 3,
   "metadata": {
    "collapsed": true
   },
   "outputs": [],
   "source": [
    "dockerResults = '../Results/Docker'\n",
    "\n",
    "if not os.path.exists(dockerResults): # There is a race condition here.\n",
    "    os.makedirs(dockerResults)        # Make sure you don't create a folder while running this\n",
    "\n",
    "else:\n",
    "    pass"
   ]
  },
  {
   "cell_type": "markdown",
   "metadata": {},
   "source": [
    "Now, I will want to start actually parsing the data that the Docker tests have given me"
   ]
  },
  {
   "cell_type": "code",
   "execution_count": 6,
   "metadata": {
    "collapsed": true,
    "scrolled": true
   },
   "outputs": [],
   "source": [
    "import sys\n",
    "sys.path.insert(1, r'./../Python')\n",
    "from helper import *\n",
    "\n",
    "resultPath = ['../Results/Docker/result1.txt', '../Results/Docker/result2.txt',\n",
    "             '../Results/Docker/result3.txt', '../Results/Docker/result4.txt',\n",
    "             '../Results/Docker/result5.txt', '../Results/Docker/result6.txt',]\n",
    "\n",
    "avoid = [\"top\", \"Tasks\", \"%Cpu(s)\", \"KiB Mem\", \"KiB Swap\"]\n",
    "\n",
    "for i in range(len(resultPath)):\n",
    "    parseTop(docker[i], resultPath[i], avoid)"
   ]
  },
  {
   "cell_type": "code",
   "execution_count": 7,
   "metadata": {
    "collapsed": true
   },
   "outputs": [],
   "source": [
    "dCPU1, dMEM1 = readFile(resultPath[0])\n",
    "dCPU2, dMEM2 = readFile(resultPath[1])\n",
    "dCPU3, dMEM3 = readFile(resultPath[2])\n",
    "dCPU4, dMEM4 = readFile(resultPath[3])\n",
    "dCPU5, dMEM5 = readFile(resultPath[4])\n",
    "dCPU6, dMEM6 = readFile(resultPath[5])"
   ]
  },
  {
   "cell_type": "markdown",
   "metadata": {},
   "source": [
    "PID for main are:\n",
    "\n",
    "test1 = 13058\n",
    "\n",
    "test2 = 942\n",
    "\n",
    "test3 = 947\n",
    "\n",
    "test4 = 945\n",
    "\n",
    "test5 = 962\n",
    "\n",
    "test 6 = 929\n",
    "\n",
    "Now, I've stored all of the mains into a numpy array for convenience."
   ]
  },
  {
   "cell_type": "code",
   "execution_count": 11,
   "metadata": {},
   "outputs": [],
   "source": [
    "mains = ['13058', '942', '947', '945', '962', '929']\n",
    "\n",
    "main1 = np.array(dCPU1[mains[0]])\n",
    "main2 = np.array(dCPU2[mains[1]])\n",
    "main3 = np.array(dCPU3[mains[2]])\n",
    "main4 = np.array(dCPU4[mains[3]])\n",
    "main5 = np.array(dCPU5[mains[4]])\n",
    "main6 = np.array(dCPU6[mains[5]])"
   ]
  },
  {
   "cell_type": "markdown",
   "metadata": {},
   "source": [
    "Now, I want to create a graph that conveys the information I want. I want to create a graph that shows the mean value of the signals as well as the standard deviation at the same time. To begin with, I start by calculating the standard deviation and the mean for every point in time."
   ]
  },
  {
   "cell_type": "code",
   "execution_count": 13,
   "metadata": {},
   "outputs": [],
   "source": [
    "mean = []\n",
    "std = []\n",
    "\n",
    "for i in range(100):\n",
    "    value = np.array([main1[i], main2[i], main3[i], main4[i], main5[i], main6[i]])\n",
    "    mean.append(np.mean(value))\n",
    "    std.append(np.std(value))\n",
    "    \n",
    "mean = np.array(mean)\n",
    "std = np.array(std)"
   ]
  },
  {
   "cell_type": "code",
   "execution_count": null,
   "metadata": {
    "collapsed": true
   },
   "outputs": [],
   "source": []
  }
 ],
 "metadata": {
  "kernelspec": {
   "display_name": "Python 3",
   "language": "python",
   "name": "python3"
  },
  "language_info": {
   "codemirror_mode": {
    "name": "ipython",
    "version": 3
   },
   "file_extension": ".py",
   "mimetype": "text/x-python",
   "name": "python",
   "nbconvert_exporter": "python",
   "pygments_lexer": "ipython3",
   "version": "3.6.2"
  }
 },
 "nbformat": 4,
 "nbformat_minor": 2
}
