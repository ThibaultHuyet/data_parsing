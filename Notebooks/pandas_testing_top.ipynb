{
 "cells": [
  {
   "cell_type": "code",
   "execution_count": 1,
   "metadata": {
    "collapsed": true
   },
   "outputs": [],
   "source": [
    "import numpy as np\n",
    "import pandas as pd\n",
    "import os.path\n",
    "\n",
    "%matplotlib inline\n",
    "import matplotlib.pyplot as plt"
   ]
  },
  {
   "cell_type": "code",
   "execution_count": 2,
   "metadata": {
    "collapsed": true
   },
   "outputs": [],
   "source": [
    "dataZip = '../Input/Program.zip'\n",
    "folder_path = '../Input/Program'"
   ]
  },
  {
   "cell_type": "code",
   "execution_count": 3,
   "metadata": {
    "collapsed": true
   },
   "outputs": [],
   "source": [
    "import sys\n",
    "sys.path.insert(1, r'./../Python')\n",
    "from helper import *"
   ]
  },
  {
   "cell_type": "code",
   "execution_count": 4,
   "metadata": {
    "collapsed": true
   },
   "outputs": [],
   "source": [
    "def file_checking(folder, zipFile):\n",
    "    \"\"\"\n",
    "    This function takes in a folder path and a zipfile.\n",
    "    If the folder exists, it does nothing with the zipfile\n",
    "    it will then return a list of the files within\n",
    "    \n",
    "    Otherwise, it will unzip the zipfile and return a list\n",
    "    of the files within the zipfile\n",
    "    \"\"\"\n",
    "    files = []\n",
    "    if (os.path.isdir(folder)): # Check that the directory exists\n",
    "        files = os.listdir(folder)\n",
    "        \n",
    "    elif (os.path.isfile(zipFile)): # If directory doesn't exist, check that a zipfile exists\n",
    "        import zipfile\n",
    "        with zipfile.ZipFile(zipFile, 'r') as zip_ref:\n",
    "            zip_ref.extractall(folder)\n",
    "\n",
    "        files = os.listdir(folder)\n",
    "        \n",
    "    else:\n",
    "        print(\"Folder does not exist, nor does zipfile\")\n",
    "    \n",
    "    for i in range(len(files)):\n",
    "        files[i] = folder + '/' + files[i]\n",
    "    \n",
    "    files.sort()\n",
    "    \n",
    "    return files"
   ]
  },
  {
   "cell_type": "code",
   "execution_count": 5,
   "metadata": {},
   "outputs": [],
   "source": [
    "prog_files = file_checking(folder_path, dataZip)"
   ]
  },
  {
   "cell_type": "code",
   "execution_count": 6,
   "metadata": {},
   "outputs": [
    {
     "data": {
      "text/plain": [
       "['../Input/Program/Prog1.txt',\n",
       " '../Input/Program/Prog2.txt',\n",
       " '../Input/Program/Prog3.txt',\n",
       " '../Input/Program/prog4.txt',\n",
       " '../Input/Program/prog5.txt',\n",
       " '../Input/Program/prog6.txt',\n",
       " '../Input/Program/prog7.txt',\n",
       " '../Input/Program/prog8.txt']"
      ]
     },
     "execution_count": 6,
     "metadata": {},
     "output_type": "execute_result"
    }
   ],
   "source": [
    "prog_files"
   ]
  },
  {
   "cell_type": "code",
   "execution_count": 7,
   "metadata": {
    "collapsed": true
   },
   "outputs": [],
   "source": [
    "textResults = '../Results/Text'\n",
    "\n",
    "if not os.path.exists(textResults): # There is a race condition here.\n",
    "    os.makedirs(textResults)        # Make sure you don't create a folder while running this\n",
    "\n",
    "else:\n",
    "    pass"
   ]
  },
  {
   "cell_type": "code",
   "execution_count": 8,
   "metadata": {},
   "outputs": [],
   "source": [
    "def parse(input_file, avoid = [\"top\", \"Tasks\", \"%Cpu(s)\", \"KiB Mem\", \"KiB Swap\"]):\n",
    "    \n",
    "    PIDCPU = {}\n",
    "    PIDMEM = {}\n",
    "    \n",
    "    pid_key = {}\n",
    "    \n",
    "    # if not os.path.isfile(newfile):\n",
    "    with open(input_file) as f:\n",
    "        for line in f:\n",
    "            if not any(line.startswith(no) for no in avoid): # This removes the info at start of top\n",
    "                if not line.isspace(): # Removes empty lines\n",
    "                    new_line = line.lstrip(' ') # Some lines start with empty spaces\n",
    "                    sections = new_line.split()\n",
    "                    PID, CPU, MEM, name = sections[0], sections[8], sections[9], sections[11]\n",
    "                    if PID == 'PID':\n",
    "                        pass\n",
    "                    \n",
    "                    elif PID not in PIDCPU or PID not in PIDMEM:\n",
    "                        PIDCPU[PID] = list()\n",
    "                        PIDCPU[PID].append(float(CPU))\n",
    "                        \n",
    "                        PIDMEM[PID] = list()\n",
    "                        PIDMEM[PID].append(float(MEM))\n",
    "                        pid_key[PID] = name\n",
    "                        \n",
    "                    else:\n",
    "                        PIDCPU[PID].append(float(CPU))\n",
    "                        PIDMEM[PID].append(float(MEM))\n",
    "    \n",
    "    return PIDCPU, PIDMEM, pid_key"
   ]
  },
  {
   "cell_type": "code",
   "execution_count": 9,
   "metadata": {},
   "outputs": [],
   "source": [
    "cpu, mem, pid = parse(prog_files[0])"
   ]
  },
  {
   "cell_type": "code",
   "execution_count": 10,
   "metadata": {},
   "outputs": [],
   "source": [
    "def create_dataframe(cpu_dict, mem_dict, key, time_interval = 0.5):\n",
    "    '''\n",
    "    cpu_dict: a Dictionary of lists\n",
    "    mem_dict: a Dictionary of lists\n",
    "    \n",
    "    key = the above two dicts are using PID values as keys.\n",
    "    Not intuitive for understanding what they mean.\n",
    "    \n",
    "    Returns two dataframes, one for cpu and one for mem\n",
    "    '''\n",
    "    \n",
    "    # Turn dicts into Dataframes\n",
    "    cpu_frame = pd.DataFrame(dict([(k, pd.Series(v)) for k, v in cpu_dict.items() ]))\n",
    "    mem_frame = pd.DataFrame(dict([(k, pd.Series(v)) for k, v in mem_dict.items() ]))\n",
    "    \n",
    "    # Here I am removing every column that has a mean of 0\n",
    "    cpu_frame = cpu_frame.drop(cpu_frame.columns[cpu_frame.apply(lambda col: col.mean() == 0)], axis=1)\n",
    "    mem_frame = mem_frame.drop(mem_frame.columns[mem_frame.apply(lambda col: col.mean() == 0)], axis=1)\n",
    "\n",
    "    # Here I remove every instance of N/A with a 0\n",
    "    cpu_frame = cpu_frame.fillna(0)\n",
    "    mem_frame = mem_frame.fillna(0)\n",
    "    \n",
    "    # I rename the columns by the their command name. Before they were PID\n",
    "    cpu_frame.rename(columns = key, inplace = True)\n",
    "    mem_frame.rename(columns = key, inplace = True)\n",
    "    \n",
    "    # I remove duplicate columns here\n",
    "    cpu_frame = cpu_frame.groupby(cpu_frame.columns, axis=1).sum()\n",
    "    mem_frame = mem_frame.groupby(mem_frame.columns, axis=1).sum()\n",
    "    \n",
    "    # Adding a time index\n",
    "    df_len = len(cpu_frame)\n",
    "    cpu_frame['time'] = pd.Series([x * time_interval for x in range(df_len)])\n",
    "    cpu_frame.set_index('time')\n",
    "    \n",
    "    df_len2 = len(mem_frame)\n",
    "    mem_frame['time'] = pd.Series([x * time_interval for x in range(df_len2)])\n",
    "    mem_frame.set_index('time')\n",
    "    \n",
    "    return cpu_frame, mem_frame"
   ]
  },
  {
   "cell_type": "code",
   "execution_count": 11,
   "metadata": {},
   "outputs": [],
   "source": [
    "cpu_frame, mem_frame = create_dataframe(cpu, mem, pid)"
   ]
  },
  {
   "cell_type": "code",
   "execution_count": 12,
   "metadata": {},
   "outputs": [
    {
     "data": {
      "image/png": "[encoded data removed]",
      "text/plain": [
       "<matplotlib.figure.Figure at 0x1aac4f2a470>"
      ]
     },
     "metadata": {},
     "output_type": "display_data"
    }
   ],
   "source": [
    "plt.plot(cpu_frame['time'][100:200], cpu_frame['main'][100:200])\n",
    "plt.xlabel('Time (s)')\n",
    "plt.ylabel('%CPU', rotation = 0)\n",
    "plt.show()"
   ]
  },
  {
   "cell_type": "code",
   "execution_count": null,
   "metadata": {
    "collapsed": true
   },
   "outputs": [],
   "source": []
  }
 ],
 "metadata": {
  "kernelspec": {
   "display_name": "Python 3",
   "language": "python",
   "name": "python3"
  },
  "language_info": {
   "codemirror_mode": {
    "name": "ipython",
    "version": 3
   },
   "file_extension": ".py",
   "mimetype": "text/x-python",
   "name": "python",
   "nbconvert_exporter": "python",
   "pygments_lexer": "ipython3",
   "version": "3.6.3"
  }
 },
 "nbformat": 4,
 "nbformat_minor": 2
}
