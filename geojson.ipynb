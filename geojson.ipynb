{
 "cells": [
  {
   "cell_type": "markdown",
   "metadata": {},
   "source": [
    "# This is a title"
   ]
  },
  {
   "cell_type": "code",
   "execution_count": 1,
   "metadata": {},
   "outputs": [],
   "source": [
    "from IPython.display import GeoJSON\n",
    "import geocoder"
   ]
  },
  {
   "cell_type": "code",
   "execution_count": 2,
   "metadata": {},
   "outputs": [
    {
     "data": {
      "text/plain": [
       "{'features': [{'geometry': {'coordinates': [-8.4958, 51.8986],\n",
       "    'type': 'Point'},\n",
       "   'properties': {'address': 'Cork, Munster, IE',\n",
       "    'city': 'Cork',\n",
       "    'country': 'IE',\n",
       "    'ip': '157.190.152.94',\n",
       "    'lat': 51.8986,\n",
       "    'lng': -8.4958,\n",
       "    'ok': True,\n",
       "    'org': 'AS1213 HEAnet Limited',\n",
       "    'raw': {'city': 'Cork',\n",
       "     'country': 'IE',\n",
       "     'ip': '157.190.152.94',\n",
       "     'loc': '51.8986,-8.4958',\n",
       "     'org': 'AS1213 HEAnet Limited',\n",
       "     'region': 'Munster'},\n",
       "    'state': 'Munster',\n",
       "    'status': 'OK'},\n",
       "   'type': 'Feature'}],\n",
       " 'type': 'FeatureCollection'}"
      ]
     },
     "execution_count": 2,
     "metadata": {},
     "output_type": "execute_result"
    }
   ],
   "source": [
    "g = geocoder.ip('me')\n",
    "g.geojson"
   ]
  },
  {
   "cell_type": "code",
   "execution_count": 3,
   "metadata": {},
   "outputs": [
    {
     "data": {
      "application/geo+json": {
       "features": [
        {
         "geometry": {
          "coordinates": [
           -8.4958,
           51.8986
          ],
          "type": "Point"
         },
         "properties": {
          "address": "Cork, Munster, IE",
          "city": "Cork",
          "country": "IE",
          "ip": "157.190.152.94",
          "lat": 51.8986,
          "lng": -8.4958,
          "ok": true,
          "org": "AS1213 HEAnet Limited",
          "raw": {
           "city": "Cork",
           "country": "IE",
           "ip": "157.190.152.94",
           "loc": "51.8986,-8.4958",
           "org": "AS1213 HEAnet Limited",
           "region": "Munster"
          },
          "state": "Munster",
          "status": "OK"
         },
         "type": "Feature"
        }
       ],
       "type": "FeatureCollection"
      },
      "text/plain": [
       "<IPython.display.GeoJSON object>"
      ]
     },
     "metadata": {
      "application/geo+json": {
       "expanded": false
      }
     },
     "output_type": "display_data"
    }
   ],
   "source": [
    "GeoJSON(g.geojson)"
   ]
  },
  {
   "cell_type": "code",
   "execution_count": null,
   "metadata": {},
   "outputs": [],
   "source": []
  }
 ],
 "metadata": {
  "kernelspec": {
   "display_name": "Python 3",
   "language": "python",
   "name": "python3"
  },
  "language_info": {
   "codemirror_mode": {
    "name": "ipython",
    "version": 3
   },
   "file_extension": ".py",
   "mimetype": "text/x-python",
   "name": "python",
   "nbconvert_exporter": "python",
   "pygments_lexer": "ipython3",
   "version": "3.6.4"
  }
 },
 "nbformat": 4,
 "nbformat_minor": 2
}
